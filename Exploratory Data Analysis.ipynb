{
 "cells": [
  {
   "cell_type": "markdown",
   "metadata": {},
   "source": [
    "# Explore the dataset\n",
    "\n",
    "\n",
    "In this notebook, we will perform an EDA (Exploratory Data Analysis) on the processed Waymo dataset (data in the `processed` folder). In the first part, you will create a function to display "
   ]
  },
  {
   "cell_type": "code",
   "execution_count": 1,
   "metadata": {},
   "outputs": [],
   "source": [
    "from utils import get_dataset"
   ]
  },
  {
   "cell_type": "code",
   "execution_count": 3,
   "metadata": {},
   "outputs": [
    {
     "name": "stdout",
     "output_type": "stream",
     "text": [
      "INFO:tensorflow:Reading unweighted datasets: ['/home/workspace/data/waymo/train/segment-10017090168044687777_6380_000_6400_000_with_camera_labels.tfrecord']\n",
      "INFO:tensorflow:Reading record datasets for input file: ['/home/workspace/data/waymo/train/segment-10017090168044687777_6380_000_6400_000_with_camera_labels.tfrecord']\n",
      "INFO:tensorflow:Number of filenames to read: 1\n",
      "WARNING:tensorflow:num_readers has been reduced to 1 to match input file shards.\n",
      "WARNING:tensorflow:From /data/virtual_envs/sdc-c1-gpu-augment/lib/python3.7/site-packages/object_detection/builders/dataset_builder.py:105: parallel_interleave (from tensorflow.python.data.experimental.ops.interleave_ops) is deprecated and will be removed in a future version.\n",
      "Instructions for updating:\n",
      "Use `tf.data.Dataset.interleave(map_func, cycle_length, block_length, num_parallel_calls=tf.data.experimental.AUTOTUNE)` instead. If sloppy execution is desired, use `tf.data.Options.experimental_deterministic`.\n",
      "WARNING:tensorflow:From /data/virtual_envs/sdc-c1-gpu-augment/lib/python3.7/site-packages/object_detection/builders/dataset_builder.py:237: DatasetV1.map_with_legacy_function (from tensorflow.python.data.ops.dataset_ops) is deprecated and will be removed in a future version.\n",
      "Instructions for updating:\n",
      "Use `tf.data.Dataset.map()\n"
     ]
    }
   ],
   "source": [
    "dataset = get_dataset(\"/home/workspace/data/waymo/train/segment-10017090168044687777_6380_000_6400_000_with_camera_labels.tfrecord\")"
   ]
  },
  {
   "cell_type": "markdown",
   "metadata": {},
   "source": [
    "## Write a function to display an image and the bounding boxes\n",
    "\n",
    "Implement the `display_instances` function below. This function takes a batch as an input and display an image with its corresponding bounding boxes. The only requirement is that the classes should be color coded (eg, vehicles in red, pedestrians in blue, cyclist in green)."
   ]
  },
  {
   "cell_type": "code",
   "execution_count": null,
   "metadata": {},
   "outputs": [],
   "source": [
    "import tkinter\n",
    "import matplotlib\n",
    "import matplotlib.pyplot as plt\n",
    "import matplotlib.patches as patches\n",
    "import matplotlib.gridspec as gridspec\n",
    "from PIL import Image\n",
    "\n",
    "colors = ['', 'r', 'c', '', 'g']\n",
    "\n",
    "def create_plt_boxes(boxes, classes, shape):\n",
    "    height = shape.numpy()[0]\n",
    "    width = shape.numpy()[1]\n",
    "    box_list = []\n",
    "    for i, b in enumerate(boxes):\n",
    "        color = colors[classes[i]]\n",
    "        box_list.append(patches.Rectangle(\n",
    "            (float(b[1]) * width, float(b[0]) * height), \n",
    "            float(b[3] - b[1]) * width, \n",
    "            float(b[2] - b[0]) * height, \n",
    "            linewidth = 1, \n",
    "            edgecolor=color, \n",
    "            facecolor='none'))\n",
    "    return box_list\n",
    "\n",
    "def display_instances(batch):\n",
    "    matplotlib.use('TkAgg')\n",
    "    \"\"\"\n",
    "    This function takes a batch from the dataset and display the image with \n",
    "    the associated bounding boxes.\n",
    "    \"\"\"\n",
    "    display_width = 4\n",
    "    display_height = 3\n",
    "    blen = len(list(batch))\n",
    "    plt.figure(figsize = (display_height, display_width))\n",
    "    gs = gridspec.GridSpec(display_height, display_width)\n",
    "    gs.update(wspace=0.025, hspace=0.05)\n",
    "    \n",
    "    for i, sample in enumerate(batch):\n",
    "        col = int(i/blen / display_width)\n",
    "        row = i % display_width\n",
    "        ax = plt.subplot(gs[i])\n",
    "        ax.imshow(sample['image'])\n",
    "        rects = create_plt_boxes(sample['groundtruth_boxes'], sample['groundtruth_classes'], sample['original_image_spatial_shape'])\n",
    "        if len(rects) > 0:\n",
    "            for rect in rects:\n",
    "                ax.add_patch(rect)\n",
    "        \n",
    "    plt.show()\n",
    "        "
   ]
  },
  {
   "cell_type": "code",
   "execution_count": 21,
   "metadata": {},
   "outputs": [
    {
     "name": "stdout",
     "output_type": "stream",
     "text": [
      "tf.Tensor(640, shape=(), dtype=int32)\n"
     ]
    }
   ],
   "source": [
    "sample1 = dataset.take(1)\n",
    "for s in sample1:\n",
    "    print(s['original_image_spatial_shape'][1])"
   ]
  },
  {
   "cell_type": "markdown",
   "metadata": {},
   "source": [
    "## Display 10 images \n",
    "\n",
    "Using the dataset created in the second cell and the function you just coded, display 10 random images with the associated bounding boxes. You can use the methods `take` and `shuffle` on the dataset."
   ]
  },
  {
   "cell_type": "code",
   "execution_count": 27,
   "metadata": {},
   "outputs": [],
   "source": [
    "dataset.shuffle(100)\n",
    "display_instances(dataset.take(10))"
   ]
  },
  {
   "cell_type": "markdown",
   "metadata": {},
   "source": [
    "## Additional EDA\n",
    "\n",
    "In this last part, you are free to perform any additional analysis of the dataset. What else would like to know about the data?\n",
    "For example, think about data distribution. So far, you have only looked at a single file..."
   ]
  },
  {
   "cell_type": "code",
   "execution_count": null,
   "metadata": {},
   "outputs": [],
   "source": []
  }
 ],
 "metadata": {
  "kernelspec": {
   "display_name": "Python 3",
   "language": "python",
   "name": "python3"
  },
  "language_info": {
   "codemirror_mode": {
    "name": "ipython",
    "version": 3
   },
   "file_extension": ".py",
   "mimetype": "text/x-python",
   "name": "python",
   "nbconvert_exporter": "python",
   "pygments_lexer": "ipython3",
   "version": "3.7.3"
  }
 },
 "nbformat": 4,
 "nbformat_minor": 4
}
